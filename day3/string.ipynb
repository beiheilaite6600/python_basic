{
 "cells": [
  {
   "cell_type": "code",
   "execution_count": null,
   "metadata": {},
   "outputs": [],
   "source": [
    "str = \" this is a string\\\" \"\n",
    "str_sample = ''' \n",
    "line\n",
    "line\n",
    "'''\n",
    "\n",
    "# \"line\\nline\"\n",
    "print(\"line\\nline\")\n",
    "print(str_sample)\n",
    "print(r\"line\\nline\") # line\\nline"
   ]
  }
 ],
 "metadata": {
  "language_info": {
   "name": "python"
  }
 },
 "nbformat": 4,
 "nbformat_minor": 2
}
