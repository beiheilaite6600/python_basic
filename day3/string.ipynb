{
 "cells": [
  {
   "cell_type": "code",
   "execution_count": null,
   "metadata": {},
   "outputs": [],
   "source": [
    "str = \" this is a string\\\" \"\n",
    "str_sample = ''' \n",
    "line\n",
    "line\n",
    "'''\n",
    "\n",
    "# \"line\\nline\"\n",
    "print(\"line\\nline\")\n",
    "print(str_sample)\n",
    "print(r\"line\\nline\") # line\\nline\n",
    "\n",
    "# some of the methods\n",
    "str.capitalize()\n",
    "str.count()\n",
    "str.split(' ')\n",
    "str.upper()\n",
    "str.lower()\n",
    "str.encode()\n",
    "str.index() \n",
    "#etc. "
   ]
  }
 ],
 "metadata": {
  "language_info": {
   "name": "python"
  }
 },
 "nbformat": 4,
 "nbformat_minor": 2
}
